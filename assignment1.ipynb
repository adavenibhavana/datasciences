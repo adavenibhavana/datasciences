{
  "nbformat": 4,
  "nbformat_minor": 0,
  "metadata": {
    "colab": {
      "name": "assessment1.ipynb",
      "provenance": []
    },
    "kernelspec": {
      "name": "python3",
      "display_name": "Python 3"
    }
  },
  "cells": [
    {
      "cell_type": "code",
      "metadata": {
        "id": "_s8SZY6hrbLY",
        "colab_type": "code",
        "colab": {}
      },
      "source": [
        ""
      ],
      "execution_count": 0,
      "outputs": []
    },
    {
      "cell_type": "code",
      "metadata": {
        "id": "9lyNMvfXrmuf",
        "colab_type": "code",
        "outputId": "12dcb65f-3e6c-4b08-b5b3-119ec4010a36",
        "colab": {
          "base_uri": "https://localhost:8080/",
          "height": 204
        }
      },
      "source": [
        "#multiplcation table\n",
        "k=int(input(\"enter k value\"))\n",
        "i=1\n",
        "table=1\n",
        "while i<=10 :\n",
        "  table=k*i\n",
        "  print(k,\"*\",i,\"=\",table)\n",
        "  i=i+1\n",
        "  "
      ],
      "execution_count": 0,
      "outputs": [
        {
          "output_type": "stream",
          "text": [
            "enter k value3\n",
            "3 * 1 = 3\n",
            "3 * 2 = 6\n",
            "3 * 3 = 9\n",
            "3 * 4 = 12\n",
            "3 * 5 = 15\n",
            "3 * 6 = 18\n",
            "3 * 7 = 21\n",
            "3 * 8 = 24\n",
            "3 * 9 = 27\n",
            "3 * 10 = 30\n"
          ],
          "name": "stdout"
        }
      ]
    },
    {
      "cell_type": "code",
      "metadata": {
        "id": "fvdSwqawusAD",
        "colab_type": "code",
        "outputId": "f769153d-af99-455f-9b14-f58a2077c269",
        "colab": {
          "base_uri": "https://localhost:8080/",
          "height": 85
        }
      },
      "source": [
        "#roots of quadratic\n",
        "import math\n",
        "a = int(input(\"enter a coefficient\"))\n",
        "b = int(input(\"enter b coefficient\"))\n",
        "c = int(input(\"enter c coefficient\"))\n",
        "d = b * b - 4 * a * c\n",
        "if(d > 0):\n",
        "  root1 = (-b + math.sqrt(d)) / (2 * a)\n",
        "  root2 = (-b - math.sqrt(d)) / (2 * a)\n",
        "  print( \"the roots are\",root1, root2)\n",
        "elif(d==0):\n",
        "  root1 = root2 = -b / (2 * a)\n",
        "  print(\"roots are\",root1)\n",
        "else:\n",
        "  realPart = -b / (2 * a)\n",
        "  imagPart = math.sqrt(-d) / (2 * a)\n",
        "  print(\"roots are\",realPart,imagPart)"
      ],
      "execution_count": 0,
      "outputs": [
        {
          "output_type": "stream",
          "text": [
            "enter a coefficient1\n",
            "enter b coefficient5\n",
            "enter c coefficient6\n",
            "the roots are -2.0 -3.0\n"
          ],
          "name": "stdout"
        }
      ]
    },
    {
      "cell_type": "code",
      "metadata": {
        "id": "6Tz-TVNBwFa8",
        "colab_type": "code",
        "outputId": "1caba6cf-9683-4eec-e4c4-ae47933d7e01",
        "colab": {
          "base_uri": "https://localhost:8080/",
          "height": 51
        }
      },
      "source": [
        "#convert decimal to binary\n",
        "i=1\n",
        "s=0\n",
        "n=int(input(\"Enter decimal: \"))\n",
        "while n>0:\n",
        "    rem=int(n%2)\n",
        "    s=s+(i*rem)\n",
        "    n=int(n/2)\n",
        "    i=i*10\n",
        "print (\"The binary form of the given number is \",s,'.')\n"
      ],
      "execution_count": 0,
      "outputs": [
        {
          "output_type": "stream",
          "text": [
            "Enter decimal: 15\n",
            "The binary form of the given number is  1111 .\n"
          ],
          "name": "stdout"
        }
      ]
    },
    {
      "cell_type": "code",
      "metadata": {
        "id": "s2MjMr4v3ao7",
        "colab_type": "code",
        "colab": {}
      },
      "source": [
        ""
      ],
      "execution_count": 0,
      "outputs": []
    },
    {
      "cell_type": "code",
      "metadata": {
        "id": "ai1FPrsN4YH4",
        "colab_type": "code",
        "colab": {}
      },
      "source": [
        ""
      ],
      "execution_count": 0,
      "outputs": []
    },
    {
      "cell_type": "code",
      "metadata": {
        "id": "7QHuyJEn2M_b",
        "colab_type": "code",
        "outputId": "6b019547-7e0d-4f63-b840-75f28db57280",
        "colab": {
          "base_uri": "https://localhost:8080/",
          "height": 187
        }
      },
      "source": [
        "#fibonocci series\n",
        "n=int(input(\"enter no.of terms\"))\n",
        "i=1\n",
        "t1=0\n",
        "t2=1\n",
        "while(i<n):\n",
        "  print(t1)\n",
        "  next=t1+t2\n",
        "  t1=t2\n",
        "  t2=next\n",
        "  i=i+1"
      ],
      "execution_count": 0,
      "outputs": [
        {
          "output_type": "stream",
          "text": [
            "enter no.of terms10\n",
            "0\n",
            "1\n",
            "1\n",
            "2\n",
            "3\n",
            "5\n",
            "8\n",
            "13\n",
            "21\n"
          ],
          "name": "stdout"
        }
      ]
    },
    {
      "cell_type": "code",
      "metadata": {
        "id": "USOW1Jge-0hD",
        "colab_type": "code",
        "outputId": "ca317367-9da5-4bc1-d1d4-55500d89dc94",
        "colab": {
          "base_uri": "https://localhost:8080/",
          "height": 119
        }
      },
      "source": [
        "rows = int(input(\"Enter number of rows \"))\n",
        "for i in range(0, rows):\n",
        "    for j in range(0, i + 1):\n",
        "        print(\"*\", end=' ')\n",
        "\n",
        "    print(\"\\r\")"
      ],
      "execution_count": 0,
      "outputs": [
        {
          "output_type": "stream",
          "text": [
            "Enter number of rows 5\n",
            "* \n",
            "* * \n",
            "* * * \n",
            "* * * * \n",
            "* * * * * \n"
          ],
          "name": "stdout"
        }
      ]
    },
    {
      "cell_type": "markdown",
      "metadata": {
        "id": "NPUE3M-N4Xrr",
        "colab_type": "text"
      },
      "source": [
        ""
      ]
    }
  ]
}