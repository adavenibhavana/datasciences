{
  "nbformat": 4,
  "nbformat_minor": 0,
  "metadata": {
    "colab": {
      "name": "assignment2(29-05-2020).ipynb",
      "provenance": []
    },
    "kernelspec": {
      "name": "python3",
      "display_name": "Python 3"
    }
  },
  "cells": [
    {
      "cell_type": "code",
      "metadata": {
        "id": "UwaL3uxD0R2q",
        "colab_type": "code",
        "outputId": "e19f7344-6f9c-49b2-b710-ce78040d6c4e",
        "colab": {
          "base_uri": "https://localhost:8080/",
          "height": 85
        }
      },
      "source": [
        "#count of vowels ,consonants and special characters\n",
        "string = input(\"Please Enter Your Own String : \")\n",
        "string = string.lower()\n",
        "vowels = consonants = digits = special_chars = 0\n",
        "for i in string:\n",
        "    if( i>='a' and i<='z' ):\n",
        "        if( i=='a' or i=='e' or i=='i'or i=='o'or i=='u' ):\n",
        "            vowels += 1\n",
        "        else:\n",
        "                consonants += 1\n",
        "    elif( i.isdigit() ):\n",
        "            digits += 1\n",
        "    else:\n",
        "            special_chars += 1\n",
        "print( \"Vowels: \", vowels)    \n",
        "print( \"Consonants: \", consonants)\n",
        "print( \"Special Characters: \", special_chars)"
      ],
      "execution_count": 0,
      "outputs": [
        {
          "output_type": "stream",
          "text": [
            "Please Enter Your Own String : bhavana@2000\n",
            "Vowels:  3\n",
            "Consonants:  4\n",
            "Special Characters:  1\n"
          ],
          "name": "stdout"
        }
      ]
    },
    {
      "cell_type": "code",
      "metadata": {
        "id": "fjkEFadE2okz",
        "colab_type": "code",
        "outputId": "404b8708-2a9d-4463-f0ca-c2c0f38c572f",
        "colab": {
          "base_uri": "https://localhost:8080/",
          "height": 85
        }
      },
      "source": [
        "#median of three numbers\n",
        "a = int(input(\"Input first number: \"))\n",
        "b = int(input(\"Input second number: \"))\n",
        "c = int(input(\"Input third number: \"))\n",
        "if a > b:\n",
        "    if a < c:\n",
        "        median = a\n",
        "    elif b > c:\n",
        "        median = b\n",
        "    else:\n",
        "        median = c\n",
        "else:\n",
        "    if a > c:\n",
        "        median = a\n",
        "    elif b < c:\n",
        "        median = b\n",
        "    else:\n",
        "        median = c\n",
        "\n",
        "print(\"The median is\", median)\n"
      ],
      "execution_count": 0,
      "outputs": [
        {
          "output_type": "stream",
          "text": [
            "Input first number: 26\n",
            "Input second number: 15\n",
            "Input third number: 29\n",
            "The median is 26\n"
          ],
          "name": "stdout"
        }
      ]
    },
    {
      "cell_type": "code",
      "metadata": {
        "id": "pkyM7gC_Ax_d",
        "colab_type": "code",
        "outputId": "629b5d86-06c5-4312-e0dc-072365dcb708",
        "colab": {
          "base_uri": "https://localhost:8080/",
          "height": 884
        }
      },
      "source": [
        "for fizzbuzz in range(51):\n",
        "    if fizzbuzz % 3 == 0 and fizzbuzz % 5 == 0:\n",
        "        print(\"fizzbuzz\")\n",
        "        continue\n",
        "    elif fizzbuzz % 3 == 0:\n",
        "        print(\"fizz\")\n",
        "        continue\n",
        "    elif fizzbuzz % 5 == 0:\n",
        "        print(\"buzz\")\n",
        "        continue\n",
        "    print(fizzbuzz)\n",
        "\t"
      ],
      "execution_count": 0,
      "outputs": [
        {
          "output_type": "stream",
          "text": [
            "fizzbuzz\n",
            "1\n",
            "2\n",
            "fizz\n",
            "4\n",
            "buzz\n",
            "fizz\n",
            "7\n",
            "8\n",
            "fizz\n",
            "buzz\n",
            "11\n",
            "fizz\n",
            "13\n",
            "14\n",
            "fizzbuzz\n",
            "16\n",
            "17\n",
            "fizz\n",
            "19\n",
            "buzz\n",
            "fizz\n",
            "22\n",
            "23\n",
            "fizz\n",
            "buzz\n",
            "26\n",
            "fizz\n",
            "28\n",
            "29\n",
            "fizzbuzz\n",
            "31\n",
            "32\n",
            "fizz\n",
            "34\n",
            "buzz\n",
            "fizz\n",
            "37\n",
            "38\n",
            "fizz\n",
            "buzz\n",
            "41\n",
            "fizz\n",
            "43\n",
            "44\n",
            "fizzbuzz\n",
            "46\n",
            "47\n",
            "fizz\n",
            "49\n",
            "buzz\n"
          ],
          "name": "stdout"
        }
      ]
    },
    {
      "cell_type": "code",
      "metadata": {
        "id": "0gi98vYVCw3c",
        "colab_type": "code",
        "outputId": "b44130a2-f71b-4b8d-f5e1-3c9ba6595f72",
        "colab": {
          "base_uri": "https://localhost:8080/",
          "height": 51
        }
      },
      "source": [
        "score = input(\"Enter Score: \")\n",
        "s =  float(score)\n",
        "x = 'Error'\n",
        "if s >= 0.9:\n",
        "\tx = 'A'\n",
        "elif s >=0.8:\n",
        "\tx='B'\n",
        "elif s >=0.7:\n",
        "\tx='C'\n",
        "elif s >= 0.6:\n",
        "\tx='D'\n",
        "elif s < .6:\n",
        "\tx ='F'\n",
        "else:\n",
        "\tx =\"Out of Range\"\n",
        "print (x)\n",
        "\n",
        "    "
      ],
      "execution_count": 0,
      "outputs": [
        {
          "output_type": "stream",
          "text": [
            "Enter Score: 0.8\n",
            "B\n"
          ],
          "name": "stdout"
        }
      ]
    },
    {
      "cell_type": "code",
      "metadata": {
        "id": "XOXNiS4mDg9Z",
        "colab_type": "code",
        "outputId": "72a40f46-f34d-4205-cecc-187bd466fe3d",
        "colab": {
          "base_uri": "https://localhost:8080/",
          "height": 51
        }
      },
      "source": [
        "#sum of digits in a string\n",
        "inputstr = input(\"Enter your string: \")\n",
        "sum_total = 0\n",
        "for x in inputstr:\n",
        "    if x.isdigit():\n",
        "        sum_total += int(x)\n",
        "\n",
        "\n",
        "print(\"Total:- \", sum_total)"
      ],
      "execution_count": 0,
      "outputs": [
        {
          "output_type": "stream",
          "text": [
            "Enter your string: bhavana3030\n",
            "Total:-  6\n"
          ],
          "name": "stdout"
        }
      ]
    },
    {
      "cell_type": "code",
      "metadata": {
        "id": "yPv-0Y3aES-q",
        "colab_type": "code",
        "outputId": "c7118f2a-1429-44c3-c2e4-f017ff365f9a",
        "colab": {
          "base_uri": "https://localhost:8080/",
          "height": 51
        }
      },
      "source": [
        "str=input(\"enter the string\")\n",
        "c1=0\n",
        "c2=0\n",
        "for i in range(0,len(str)):\n",
        "  if(str[i]=='('):\n",
        "    c1=c1+1\n",
        "  else:\n",
        "    c2=c2+1\n",
        "if(c1==c2):\n",
        "  print(c1)"
      ],
      "execution_count": 0,
      "outputs": [
        {
          "output_type": "stream",
          "text": [
            "enter the string()()((((()))))\n",
            "7\n"
          ],
          "name": "stdout"
        }
      ]
    },
    {
      "cell_type": "code",
      "metadata": {
        "id": "0n-bS-uMFwrG",
        "colab_type": "code",
        "colab": {
          "base_uri": "https://localhost:8080/",
          "height": 51
        },
        "outputId": "8a2fc911-8c1d-45e3-b12d-ca9219e76579"
      },
      "source": [
        "#palindome count in given range\n",
        "maximum = int(input(\" Please Enter the Maximum Value : \"))\n",
        "count=0\n",
        "for num in range(1, maximum + 1):\n",
        "    temp = num\n",
        "    reverse = 0\n",
        "    \n",
        "    while(temp > 0):\n",
        "        Reminder = temp % 10\n",
        "        reverse = (reverse * 10) + Reminder\n",
        "        temp = temp //10\n",
        "\n",
        "    if(num == reverse):\n",
        "        count=count+1\n",
        "print(count)"
      ],
      "execution_count": 25,
      "outputs": [
        {
          "output_type": "stream",
          "text": [
            " Please Enter the Maximum Value : 10\n",
            "9\n"
          ],
          "name": "stdout"
        }
      ]
    },
    {
      "cell_type": "code",
      "metadata": {
        "id": "c0JFeqePL3pJ",
        "colab_type": "code",
        "colab": {
          "base_uri": "https://localhost:8080/",
          "height": 51
        },
        "outputId": "3fae9ef4-c815-4391-e374-e757431e7a56"
      },
      "source": [
        "str=input(\"enter string\")\n",
        "count=str.count(\"aa\")\n",
        "print(count)"
      ],
      "execution_count": 39,
      "outputs": [
        {
          "output_type": "stream",
          "text": [
            "enter stringaabcaaabaacc\n",
            "3\n"
          ],
          "name": "stdout"
        }
      ]
    },
    {
      "cell_type": "code",
      "metadata": {
        "id": "9KTjIExTONyY",
        "colab_type": "code",
        "colab": {
          "base_uri": "https://localhost:8080/",
          "height": 34
        },
        "outputId": "5e8aeaa4-a72d-4caa-b698-3cfa3af14dc0"
      },
      "source": [
        "def replaceCharacterType(str): \n",
        "    vowel = False\n",
        "    consonant = False\n",
        "    for i in range(0, len(str)):           \n",
        "        ch = str[i]    \n",
        "        if ( (ch >= 'a' and ch <= 'z') or \n",
        "             (ch >= 'A' and ch <= 'Z') ):  \n",
        "            if(isVowel(ch)):\n",
        "                vowel = True\n",
        "            else:\n",
        "                consonant = True\n",
        "            if (vowel == True): \n",
        "                print(chr(ord(ch) + 1), end =\" \")\n",
        "                vowel = False\n",
        "            else: \n",
        "                i=1\n",
        "                while True:\n",
        "                    tmp = chr(ord(ch)+i)\n",
        "                    if (isVowel(tmp)):\n",
        "                        print(tmp, end =\" \")\n",
        "                        break\n",
        "                    else:\n",
        "                        i +=1\n",
        "\n",
        "def isVowel(ch):\n",
        "    ch = ch.lower()   \n",
        "    if (ch == 'a' or ch == 'e' or ch == 'i' \n",
        "            or ch == 'o' or ch == 'u'):\n",
        "                return True\n",
        "    else:\n",
        "        return False\n",
        "str = \"orange\"\n",
        "replaceCharacterType(str)\n"
      ],
      "execution_count": 40,
      "outputs": [
        {
          "output_type": "stream",
          "text": [
            "p u b o i f "
          ],
          "name": "stdout"
        }
      ]
    },
    {
      "cell_type": "code",
      "metadata": {
        "id": "hoK9WLjRdPg5",
        "colab_type": "code",
        "colab": {}
      },
      "source": [
        ""
      ],
      "execution_count": 0,
      "outputs": []
    }
  ]
}